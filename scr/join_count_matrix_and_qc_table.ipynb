{
 "cells": [
  {
   "cell_type": "code",
   "execution_count": 1,
   "id": "1ed43bb0-d5ec-4289-b376-da216267fbc3",
   "metadata": {},
   "outputs": [],
   "source": [
    "import os\n",
    "import pandas as pd"
   ]
  },
  {
   "cell_type": "code",
   "execution_count": 10,
   "id": "d6e3b646-753d-44bf-b143-8e39ab1d0a84",
   "metadata": {},
   "outputs": [
    {
     "name": "stdout",
     "output_type": "stream",
     "text": [
      "Merging complete. The merged file is saved as merged_count_matrix.tsv\n"
     ]
    }
   ],
   "source": [
    "base_folder = '/mnt/s3fs/flomics-data/FL-cfRNA-meta/rozowsky'\n",
    "\n",
    "output_folder = os.getcwd()\n",
    "#output_folder = base_folder\n",
    "\n",
    "merged_df = None\n",
    "# salmon.merged.gene_counts_scaled.tsv\n",
    "# salmon.merged.gene_counts_length_scaled.tsv\n",
    "# salmon.merged.gene_counts.tsv\n",
    "# salmon.merged.gene_tpm.tsv\n",
    "\n",
    "# Loop through the range 00 to whatever the last number is (range(x) where x=last number+1)\n",
    "for i in range(4):\n",
    "    folder_name = f'wang_results_{i:02d}.part/star_salmon'\n",
    "    \n",
    "    # Construct the full path to the QC_table.tsv file\n",
    "    file_path = os.path.join(base_folder, folder_name, 'salmon.merged.gene_counts.tsv')\n",
    "    \n",
    "    if os.path.isfile(file_path):\n",
    "        # Read the TSV file into a dataframe\n",
    "        df = pd.read_csv(file_path, sep='\\t')\n",
    "        \n",
    "        # Set the 'gene_id' column as the index\n",
    "        df.set_index('gene_id', inplace=True)\n",
    "        \n",
    "        if merged_df is None:\n",
    "            # Initialize the merged dataframe with the first dataframe\n",
    "            merged_df = df\n",
    "        else:\n",
    "            # Drop the 'gene_name' column from the current dataframe\n",
    "            df = df.drop(columns=['gene_name'])\n",
    "            \n",
    "            # Merge the current dataframe with the merged dataframe on 'gene_id'\n",
    "            merged_df = merged_df.join(df, how='outer', rsuffix=f'_{i:02d}')\n",
    "    else:\n",
    "        print(f'File not found: {file_path}')\n",
    "\n",
    "# Reset index to make 'gene_name' a column again\n",
    "merged_df.reset_index(inplace=True)\n",
    "\n",
    "output_path = os.path.join(output_folder, 'salmon.merged.gene_counts.tsv')\n",
    "merged_df.to_csv(output_path, sep='\\t', index=False)\n",
    "\n",
    "print('Merging complete.')\n"
   ]
  },
  {
   "cell_type": "code",
   "execution_count": 3,
   "id": "59ffa534",
   "metadata": {},
   "outputs": [
    {
     "name": "stdout",
     "output_type": "stream",
     "text": [
      "/mnt/efs/home/ctuni/join_count_matrix_test\n"
     ]
    }
   ],
   "source": [
    "print(output_folder)"
   ]
  },
  {
   "cell_type": "code",
   "execution_count": 2,
   "id": "fcebe306-7ca1-483d-b7e7-5791ce6f2561",
   "metadata": {},
   "outputs": [
    {
     "name": "stdout",
     "output_type": "stream",
     "text": [
      "Merging complete. The merged file is saved as merged_QC_table.tsv\n"
     ]
    }
   ],
   "source": [
    "base_folder = '/mnt/s3fs/flomics-data/FL-cfRNA-meta/rozowsky'\n",
    "\n",
    "output_folder = os.getcwd()\n",
    "#output_folder = base_folder\n",
    "\n",
    "# Initialize an empty list to store dataframes\n",
    "df_list = []\n",
    "\n",
    "# Loop through the range 00 to 04\n",
    "for i in range(9):\n",
    "    # Format the folder name\n",
    "    folder_name = f'rozowsky_results_{i:02d}.part/Flomics_QC'\n",
    "    \n",
    "    # Construct the full path to the QC_table.tsv file\n",
    "    file_path = os.path.join(base_folder, folder_name, 'QC_table.tsv')\n",
    "    \n",
    "    # Check if the file exists\n",
    "    if os.path.isfile(file_path):\n",
    "        # Read the TSV file into a dataframe\n",
    "        df = pd.read_csv(file_path, sep='\\t')\n",
    "        \n",
    "        # Append the dataframe to the list\n",
    "        df_list.append(df)\n",
    "    else:\n",
    "        print(f'File not found: {file_path}')\n",
    "\n",
    "# Concatenate all dataframes in the list\n",
    "merged_df = pd.concat(df_list, ignore_index=True)\n",
    "\n",
    "# Save the merged dataframe to a new TSV file\n",
    "output_path = os.path.join(output_folder, 'QC_table.tsv')\n",
    "merged_df.to_csv(output_path, sep='\\t', index=False)\n",
    "\n",
    "print('Merging complete.')\n"
   ]
  },
  {
   "cell_type": "code",
   "execution_count": 6,
   "id": "f081ee0f-c369-4078-83dc-d9e8c57a6b82",
   "metadata": {},
   "outputs": [
    {
     "name": "stdout",
     "output_type": "stream",
     "text": [
      "Merging complete.\n"
     ]
    }
   ],
   "source": [
    "base_folder = '/mnt/s3fs/flomics-data/FL-cfRNA-meta/toden'\n",
    "\n",
    "output_folder = os.getcwd()\n",
    "#output_folder = base_folder\n",
    "\n",
    "# Initialize an empty list to store dataframes\n",
    "df_list = []\n",
    "\n",
    "# Loop through the range 00 to 04\n",
    "for i in range(14):\n",
    "    # Format the folder name\n",
    "    folder_name = f'toden_results_kraken_{i:02d}.part/multiqc/multiqc_data/'\n",
    "    \n",
    "    # Construct the full path to the kraken2 species file\n",
    "    file_path = os.path.join(base_folder, folder_name, 'mqc_kraken-topfive-plot_Species.txt')\n",
    "    \n",
    "    # Check if the file exists\n",
    "    if os.path.isfile(file_path):\n",
    "        # Read the TSV file into a dataframe\n",
    "        df = pd.read_csv(file_path, sep='\\t')\n",
    "        \n",
    "        # Append the dataframe to the list\n",
    "        df_list.append(df)\n",
    "    else:\n",
    "        print(f'File not found: {file_path}')\n",
    "\n",
    "# Concatenate all dataframes in the list\n",
    "merged_df = pd.concat(df_list, ignore_index=True)\n",
    "\n",
    "# Save the merged dataframe to a new TSV file\n",
    "output_path = os.path.join(output_folder, 'mqc_kraken_species_toden.tsv')\n",
    "merged_df.to_csv(output_path, sep='\\t', index=False)\n",
    "\n",
    "print('Merging complete.')"
   ]
  }
 ],
 "metadata": {
  "kernelspec": {
   "display_name": "Python 3 (ipykernel)",
   "language": "python",
   "name": "python3"
  },
  "language_info": {
   "codemirror_mode": {
    "name": "ipython",
    "version": 3
   },
   "file_extension": ".py",
   "mimetype": "text/x-python",
   "name": "python",
   "nbconvert_exporter": "python",
   "pygments_lexer": "ipython3",
   "version": "3.10.10"
  }
 },
 "nbformat": 4,
 "nbformat_minor": 5
}
