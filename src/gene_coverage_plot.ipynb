{
 "cells": [
  {
   "cell_type": "markdown",
   "id": "5da38501",
   "metadata": {},
   "source": [
    "## OWNER"
   ]
  },
  {
   "cell_type": "markdown",
   "id": "ebcc104f",
   "metadata": {},
   "source": [
    "Name: Flomics Biotech SL \n",
    "\n",
    "date: 19/06/2025"
   ]
  },
  {
   "cell_type": "markdown",
   "id": "4ae957f0",
   "metadata": {},
   "source": [
    "## MAIN"
   ]
  },
  {
   "cell_type": "markdown",
   "id": "52e31236",
   "metadata": {},
   "source": [
    "Generate gene coverage plot"
   ]
  },
  {
   "cell_type": "markdown",
   "id": "fc154ab0",
   "metadata": {},
   "source": [
    "## LIBRARIES"
   ]
  },
  {
   "cell_type": "code",
   "execution_count": null,
   "id": "d40ba3ab-b568-4dfb-acdb-c8450c9eb50c",
   "metadata": {},
   "outputs": [],
   "source": [
    "import os\n",
    "import pandas as pd\n",
    "import matplotlib.pyplot as plt\n",
    "import sys\n",
    "import json"
   ]
  },
  {
   "cell_type": "markdown",
   "id": "530bed1f",
   "metadata": {},
   "source": [
    "## FUNCTIONS/PAR_SETTING"
   ]
  },
  {
   "cell_type": "markdown",
   "id": "f2da9e8f-9e77-42a5-84ef-141702556023",
   "metadata": {},
   "source": [
    "### Set font for plots"
   ]
  },
  {
   "cell_type": "code",
   "execution_count": null,
   "id": "2064c8d6-e67a-4e66-a909-89df7752e0ec",
   "metadata": {},
   "outputs": [],
   "source": [
    "plt.rcParams['font.family'] = 'sans-serif'\n",
    "plt.rcParams['font.sans-serif'] = ['Arial']\n",
    "plt.rcParams['mathtext.fontset'] = 'custom'\n",
    "plt.rcParams['mathtext.rm'] = 'Arial'\n",
    "plt.rcParams['mathtext.it'] = 'Arial:italic'\n",
    "plt.rcParams['mathtext.bf'] = 'Arial:bold'"
   ]
  },
  {
   "cell_type": "markdown",
   "id": "40fe77e4-60f6-4132-a15b-f9d0c1458253",
   "metadata": {},
   "source": [
    "### External scripts"
   ]
  },
  {
   "cell_type": "code",
   "execution_count": null,
   "id": "b701cdfa-4d91-49ad-a0ab-d27ec1f9a981",
   "metadata": {},
   "outputs": [],
   "source": [
    "#dodged barplot function\n",
    "script_dir = \"./\"\n",
    "sys.path.append(script_dir)\n",
    "\n",
    "from ridgeline_from_known_density_plot import ridgeline_from_known_density_plot"
   ]
  },
  {
   "cell_type": "code",
   "execution_count": null,
   "id": "3e51378d-bfcf-4d8c-ac17-af501ab2ad56",
   "metadata": {},
   "outputs": [],
   "source": [
    "def find_results_folder(base_dataset_path, prefix):\n",
    "    for folder in os.listdir(base_dataset_path):\n",
    "        if os.path.isdir(os.path.join(base_dataset_path, folder)):\n",
    "            if prefix in folder and 'results' in folder:\n",
    "                return folder\n",
    "    return None"
   ]
  },
  {
   "cell_type": "markdown",
   "id": "a234ae7e",
   "metadata": {},
   "source": [
    "## WORKFLOW"
   ]
  },
  {
   "cell_type": "markdown",
   "id": "253950be-269a-4adb-b97f-6a3800d37b73",
   "metadata": {},
   "source": [
    "### Setup"
   ]
  },
  {
   "cell_type": "code",
   "execution_count": null,
   "id": "e6bf5f86-330b-42a8-8dc5-1868b714ce44",
   "metadata": {},
   "outputs": [],
   "source": [
    "base_folder = './'\n",
    "chalasani_folder = './'\n",
    "output_folder = os.getcwd()\n",
    "\n",
    "datasets = {\n",
    "    'block':         {'sliced': True,  'n_parts': 4,  'prefix': 'block'},\n",
    "    'chalasani': {'sliced': True,  'n_parts': 6,  'prefix': 'chalasani'},\n",
    "    'chen':          {'sliced': True,  'n_parts': 21, 'prefix': 'chen'},\n",
    "    'flomics_2': {'sliced': False, 'subfolder_path': 'Flomics_2'},\n",
    "    'decru':         {'sliced': True,  'n_parts': 6,  'prefix': 'decru'},\n",
    "    'giraldez':      {'sliced': False,                 'prefix': 'giraldez_results_full'},\n",
    "    'ibarra':        {'sliced': True,  'n_parts': 14, 'prefix': 'ibarra'},\n",
    "    'moufarrej':     {'sliced': True,  'n_parts': 17, 'prefix': 'moufarrej'},\n",
    "    'ngo':           {'sliced': False,                 'prefix': 'ngo'},\n",
    "    'reggiardo':     {'sliced': False,                 'prefix': 'reggiardo'},\n",
    "    'roskams':       {'sliced': True,  'n_parts': 6,  'prefix': 'roskams'},\n",
    "    'rozowsky':      {'sliced': True,  'n_parts': 9,  'prefix': 'rozowsky'},\n",
    "    'sun':           {'sliced': True,  'n_parts': 3,  'prefix': 'sun'},\n",
    "    'tao':           {'sliced': True,  'n_parts': 12, 'prefix': 'tao'},\n",
    "    #'taowei':        {'sliced': True,  'n_parts': 5,  'prefix': 'taowei'},\n",
    "    'toden':         {'sliced': True,  'n_parts': 5, 'prefix': 'toden'},\n",
    "    'wang':          {'sliced': True,  'n_parts': 4,  'prefix': 'wang'},\n",
    "    'zhu':           {'sliced': True,  'n_parts': 5,  'prefix': 'zhu'},\n",
    "}\n",
    "\n",
    "dataset_colors = {\n",
    "    \"block\": \"#b3b3b3\", \"decru\": \"#009E73\", \"zhu\": \"#ffd633\", \"chen\": \"#997a00\", \"flomics_2\": \"#144D6B\",\n",
    "    \"ngo\": \"#fa8072\", \"roskams\": \"#944dff\", \"moufarrej\": \"#CC79A7\", \"sun\": \"#D55E00\",\n",
    "    \"tao\": \"#0072B2\", \"toden\": \"#800099\", \"ibarra\": \"#800000\", \"chalasani_merged\": \"#800040\",\n",
    "    \"rozowsky\": \"#006600\", \"taowei\": \"#B32400\", \"giraldez\": \"#B1CC71\", \"reggiardo\": \"#F1085C\", \"wang\": \"#FE8F42\"\n",
    "}"
   ]
  },
  {
   "cell_type": "markdown",
   "id": "2f40a95d-f889-4aec-b65c-cbd798946b35",
   "metadata": {},
   "source": [
    "### Save per sample gene coverage"
   ]
  },
  {
   "cell_type": "code",
   "execution_count": null,
   "id": "883c4a91-9ff1-4c2a-9e7b-9fdf6615d91d",
   "metadata": {
    "scrolled": true
   },
   "outputs": [],
   "source": [
    "# ---- Process ----\n",
    "all_profiles = {}\n",
    "\n",
    "for dataset, meta in datasets.items():\n",
    "    sliced = meta['sliced']\n",
    "    n_parts = meta.get('n_parts', 1)\n",
    "    prefix = meta.get('prefix', None)  # Only exists if sliced or traditional unsliced\n",
    "    print(f\"\\nProcessing dataset: {dataset}\")\n",
    "\n",
    "    if sliced:\n",
    "        for i in range(n_parts):\n",
    "            print(f\"\\nProcessing dataset: {dataset+\"_\"+str(i)}\")\n",
    "            part_folder = f\"{prefix}_results_{i:02d}.part/multiqc/star_salmon/multiqc_data\"\n",
    "            if dataset == \"chalasani\":\n",
    "                part_folder = chalasani_folder+f\"{prefix}_results_{i:02d}.part/multiqc/star_salmon/multiqc_data\"\n",
    "            file_path = os.path.join(base_folder, dataset, part_folder, \"mqc_qualimap_gene_coverage_profile_Normalised.txt\")\n",
    "            if os.path.isfile(file_path):\n",
    "                try:\n",
    "                    df = pd.read_csv(file_path, sep=\"\\t\")\n",
    "                    print(df.shape)\n",
    "                    all_profiles[dataset+\"_\"+str(i)] = df\n",
    "                    #handle special case (decru)\n",
    "                    if dataset == \"decru\":\n",
    "                        df[\"Sample\"] = df[\"Sample\"].str.split('_').str[0]\n",
    "                    #handle special case (chalasani)\n",
    "                    if dataset == \"chalasani_merged\":\n",
    "                        df[\"Sample\"] = \"X\" + df[\"Sample\"].astype(str)\n",
    "                    if dataset in [\"chalasani_merged\",\"decru\",\"toden\"]:\n",
    "                        print(df.head())\n",
    "                except Exception as e:\n",
    "                    print(f\"Error reading {file_path}: {e}\")\n",
    "            else:\n",
    "                print(f\"Missing: {file_path}\")\n",
    "    else:\n",
    "        if \"subfolder_path\" in meta:\n",
    "            part_path = os.path.join(base_folder, meta[\"subfolder_path\"], \"multiqc\", \"star_salmon\", \"multiqc_data\")\n",
    "        else:\n",
    "            base_dataset_path = os.path.join(base_folder, dataset)\n",
    "            matched_folder = find_results_folder(base_dataset_path, prefix)\n",
    "            if not matched_folder:\n",
    "                print(f\"Could not find results folder for: {dataset}\")\n",
    "                continue\n",
    "            part_path = os.path.join(base_dataset_path, matched_folder, \"multiqc\", \"star_salmon\", \"multiqc_data\")\n",
    "\n",
    "        file_path = os.path.join(part_path, \"mqc_qualimap_gene_coverage_profile_Normalised.txt\")\n",
    "        if os.path.isfile(file_path):\n",
    "            try:\n",
    "                df = pd.read_csv(file_path, sep=\"\\t\")\n",
    "                print(df.shape)\n",
    "                print(df.head())\n",
    "                all_profiles[dataset+\"_\"+str(part_path)] = df\n",
    "            except Exception as e:\n",
    "                print(f\"Error reading {file_path}: {e}\")\n",
    "        else:\n",
    "            print(f\"Missing: {file_path}\")"
   ]
  },
  {
   "cell_type": "markdown",
   "id": "e8caf53b-a5e8-48be-8b33-be5aec20e062",
   "metadata": {},
   "source": [
    "### preparing dataset for ridge plot"
   ]
  },
  {
   "cell_type": "markdown",
   "id": "6dbcf992-ed2c-4cc4-a431-e9e3135d03c4",
   "metadata": {},
   "source": [
    "#### Merge gene coverage in one dataset"
   ]
  },
  {
   "cell_type": "code",
   "execution_count": null,
   "id": "3594b8e5-f53a-4b96-af29-cfae9a1e3ade",
   "metadata": {},
   "outputs": [],
   "source": [
    "# List to hold individual DataFrames\n",
    "all_dataframes = []\n",
    "\n",
    "# Iterate through the dictionary and append each DataFrame to the list\n",
    "for key, df in all_profiles.items():\n",
    "    all_dataframes.append(df)\n",
    "    \n",
    "\n",
    "# Concatenate all DataFrames into a single, unique dataset\n",
    "sample_gene_coverage = pd.concat(all_dataframes)\n",
    "sample_gene_coverage = sample_gene_coverage.set_index('Sample')\n",
    "print(sample_gene_coverage.shape)\n",
    "sample_gene_coverage.head()"
   ]
  },
  {
   "cell_type": "markdown",
   "id": "af7b6a41-64ba-43dd-b806-edff48a450ce",
   "metadata": {},
   "source": [
    "#### Merge gene coverage with metadata (handle specific sample names)"
   ]
  },
  {
   "cell_type": "code",
   "execution_count": null,
   "id": "1f93ab25-b5d2-4acc-89a1-b02ef7d07f58",
   "metadata": {},
   "outputs": [],
   "source": [
    "#load metadata\n",
    "metadata = pd.read_csv(\"../tables/cfRNA-meta_per_sample_metadata.tsv\",sep=\"\\t\")\n",
    "#handle special case (Flomics_1 and Flomics2)\n",
    "condition = metadata['dataset_batch'].str.contains(r'^flomics_.*', na=False)\n",
    "metadata.loc[condition, 'run'] = metadata['sample_display_name']\n",
    "#set index\n",
    "metadata = metadata.set_index(\"run\")\n",
    "print(metadata.shape)\n",
    "metadata.head()"
   ]
  },
  {
   "cell_type": "code",
   "execution_count": null,
   "id": "587b0e7b-17f6-40d3-911b-9bf62775f082",
   "metadata": {},
   "outputs": [],
   "source": [
    "#merge with metadata\n",
    "full_gene_coverage_data = sample_gene_coverage.join(metadata, how='inner')\n",
    "print(full_gene_coverage_data.shape)"
   ]
  },
  {
   "cell_type": "code",
   "execution_count": null,
   "id": "4fc674d2-f9d7-4222-be2f-928f55c611e9",
   "metadata": {},
   "outputs": [],
   "source": [
    "list(set(sample_gene_coverage.index) - set(full_gene_coverage_data.index))"
   ]
  },
  {
   "cell_type": "code",
   "execution_count": null,
   "id": "404ecf53-32e5-40d0-8f75-83ebc22fb5db",
   "metadata": {},
   "outputs": [],
   "source": [
    "list(set(metadata[\"dataset_short_name\"].unique()) - set(full_gene_coverage_data[\"dataset_short_name\"].unique()))"
   ]
  },
  {
   "cell_type": "markdown",
   "id": "5d50cd9f-530a-4f12-910a-f40576100669",
   "metadata": {},
   "source": [
    "#### rename batches name with standard names and load batches proper colors"
   ]
  },
  {
   "cell_type": "code",
   "execution_count": null,
   "id": "875bc923-3c44-4511-9bc3-f056f1707220",
   "metadata": {},
   "outputs": [],
   "source": [
    "#load JSON file\n",
    "with open(\"./dataset_mappings.json\") as json_file:\n",
    "    data_mapping = json.load(json_file)\n",
    "\n",
    "order_label = data_mapping['datasetVisualOrder']\n",
    "color_dataset = data_mapping['datasetsPalette']\n",
    "data_mapping = data_mapping['datasetsLabels']\n",
    "order_label = [data_mapping.get(item, item) for item in order_label]"
   ]
  },
  {
   "cell_type": "code",
   "execution_count": null,
   "id": "f20bb0a3-2304-457b-a9d9-ab04d0562daa",
   "metadata": {},
   "outputs": [],
   "source": [
    "#replace names in batches column\n",
    "full_gene_coverage_data[\"dataset_batch\"].replace(data_mapping, inplace=True)"
   ]
  },
  {
   "cell_type": "code",
   "execution_count": null,
   "id": "7a1a9d15-f5f3-4b13-b79b-9826dcea4bd4",
   "metadata": {},
   "outputs": [],
   "source": [
    "full_gene_coverage_data[\"dataset_batch\"]"
   ]
  },
  {
   "cell_type": "markdown",
   "id": "ca19bc3f-c58c-48dd-8338-ddaf40e5ef4e",
   "metadata": {},
   "source": [
    "#### melt dataset"
   ]
  },
  {
   "cell_type": "code",
   "execution_count": null,
   "id": "a6e8fc3f-ab65-4935-97c3-2f76e9e56d58",
   "metadata": {},
   "outputs": [],
   "source": [
    "#reset index\n",
    "full_gene_coverage_data['Sample'] = full_gene_coverage_data.index\n",
    "full_gene_coverage_data = full_gene_coverage_data.reset_index()"
   ]
  },
  {
   "cell_type": "code",
   "execution_count": null,
   "id": "9d0b06e8-148a-4f04-b39b-5d5c66426304",
   "metadata": {},
   "outputs": [],
   "source": [
    "position_list = [str(i) for i in range(0, 99)]\n",
    "print(position_list)\n",
    "print(full_gene_coverage_data.columns)\n",
    "melt_dataset = full_gene_coverage_data.melt(id_vars=['dataset_batch'], value_vars=position_list)\n",
    "melt_dataset[\"variable\"] = pd.to_numeric(melt_dataset[\"variable\"])\n",
    "print(melt_dataset.shape)\n",
    "melt_dataset.head()"
   ]
  },
  {
   "cell_type": "code",
   "execution_count": null,
   "id": "5d3ca5e0-6cb9-4b19-88ba-8e04de9638cc",
   "metadata": {},
   "outputs": [],
   "source": [
    "#correct dataset labels in color dict\n",
    "dataset_batch_colors = {data_mapping.get(old_key, old_key): value \n",
    "            for old_key, value in color_dataset.items()}\n",
    "\n",
    "print(dataset_batch_colors)"
   ]
  },
  {
   "cell_type": "markdown",
   "id": "e7d205ca-1721-4fea-8ebf-596157f32803",
   "metadata": {},
   "source": [
    "### ridge plot"
   ]
  },
  {
   "cell_type": "markdown",
   "id": "28f42c14-2791-41d6-85f2-10e6811ee46a",
   "metadata": {},
   "source": [
    "#### default plot"
   ]
  },
  {
   "cell_type": "code",
   "execution_count": null,
   "id": "6fdcbbc1-399e-420c-b410-4d72949f43bf",
   "metadata": {
    "scrolled": true
   },
   "outputs": [],
   "source": [
    "reload(heatmap_plot)\n",
    "\n",
    "ridgeline_from_known_density_plot(\n",
    "    dataset = melt_dataset,\n",
    "    x_column = \"variable\",\n",
    "    density_column = \"value\",\n",
    "    category_column = \"dataset_batch\",\n",
    "    fig_width = 10,\n",
    "    fig_height = 10,\n",
    "    output = \"gene_coverage_merged\",\n",
    "    show_ylabel = False,\n",
    "    xlabel = \"Transcript position (%)\",\n",
    "    xlabel_va = 0.51,\n",
    "    fill_color = dataset_batch_colors,\n",
    "    show_title = False,\n",
    "    line_width = 0.5,\n",
    "    normalization = 'mean'\n",
    ")"
   ]
  },
  {
   "cell_type": "markdown",
   "id": "2e13e62a-3b9c-4518-960f-ad431935a05e",
   "metadata": {},
   "source": [
    "#### Y-axis plot"
   ]
  },
  {
   "cell_type": "code",
   "execution_count": null,
   "id": "45d2930e-da88-4b9d-98e1-3d543eea0c76",
   "metadata": {},
   "outputs": [],
   "source": [
    "reload(heatmap_plot)\n",
    "\n",
    "ridgeline_from_known_density_plot(\n",
    "    dataset = melt_dataset,\n",
    "    x_column = \"variable\",\n",
    "    density_column = \"value\",\n",
    "    category_column = \"dataset_batch\",\n",
    "    category_order = order_label[:-1],\n",
    "    fig_width = 10,\n",
    "    fig_height = 15,\n",
    "    output = \"gene_coverage_merged_y_axis\",\n",
    "    #layout\n",
    "    show_ylabel = True,\n",
    "    xlabel = \"Transcript position (%)\",\n",
    "    xlabel_va = 0.51,\n",
    "    fill_color = dataset_batch_colors,\n",
    "    show_title = False,\n",
    "    line_width = 0.5,\n",
    "    y_ticks_frequency = 1,\n",
    "    normalization = 'mean',\n",
    "    #individual sub-plots\n",
    "    show_individual_yaxis = True,\n",
    "    show_individual_hspace = 0.1,\n",
    "    consistent_y_scale = False,\n",
    "    show_yticks = False,\n",
    "    ylabel_fontsize = 10\n",
    ")"
   ]
  }
 ],
 "metadata": {
  "kernelspec": {
   "display_name": "Python 3 (ipykernel)",
   "language": "python",
   "name": "python3"
  },
  "language_info": {
   "codemirror_mode": {
    "name": "ipython",
    "version": 3
   },
   "file_extension": ".py",
   "mimetype": "text/x-python",
   "name": "python",
   "nbconvert_exporter": "python",
   "pygments_lexer": "ipython3",
   "version": "3.12.10"
  }
 },
 "nbformat": 4,
 "nbformat_minor": 5
}
