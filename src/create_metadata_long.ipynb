{
 "cells": [
  {
   "cell_type": "code",
   "execution_count": null,
   "id": "768921ea-c5d1-4b09-aaff-be60d8367a39",
   "metadata": {},
   "outputs": [],
   "source": [
    "import pandas as pd\n",
    "from preprocess_metadata_functions import *\n",
    "pd.set_option('display.max_columns', None)\n"
   ]
  },
  {
   "cell_type": "code",
   "execution_count": null,
   "id": "5e4fd42f-0ac5-4e52-bb48-3b2233fff332",
   "metadata": {},
   "outputs": [],
   "source": [
    "# Read plasma cfRNA-seq workflow comparison\n",
    "csv_path = \"../sra_metadata/dataset_metadata.tsv\"\n",
    "dataset_metadata = pd.read_csv(csv_path, sep = \"\\t\")"
   ]
  },
  {
   "cell_type": "code",
   "execution_count": null,
   "id": "42905924-bd3f-4043-8b6c-74a318592f06",
   "metadata": {},
   "outputs": [],
   "source": [
    "chen = preprocess_chen()\n",
    "zhu = preprocess_zhu()\n",
    "roskams = preprocess_roskams()\n",
    "ngo = preprocess_ngo()\n",
    "ibarra = preprocess_ibarra()\n",
    "toden = preprocess_toden()\n",
    "chalasani = preprocess_chalasani()\n",
    "block = preprocess_block()\n",
    "rozowsky = preprocess_rozowsky()\n",
    "tao = preprocess_tao()\n",
    "wei = preprocess_wei()\n",
    "moufarrej = preprocess_moufarrej()\n",
    "wang = preprocess_wang()\n",
    "giraldez = preprocess_giraldez()\n",
    "sun = preprocess_sun()\n",
    "decruyenaere = preprocess_decruyenaere()\n",
    "reggiardo = preprocess_reggiardo()"
   ]
  },
  {
   "cell_type": "code",
   "execution_count": null,
   "id": "190d7d99-942e-4bf9-a6d4-8a64db5bed7f",
   "metadata": {},
   "outputs": [],
   "source": [
    "chen = chen.merge(dataset_metadata[['dataset_short_name','Biomaterial', 'Plasma tubes', 'DNAse','RNA extraction kit','RNA extraction kit (short name)','Library prep kit','Library prep kit (short name)']], on='dataset_short_name', how='left')\n",
    "zhu = zhu.merge(dataset_metadata[['dataset_short_name','Biomaterial', 'Plasma tubes', 'DNAse','RNA extraction kit','RNA extraction kit (short name)','Library prep kit','Library prep kit (short name)']], on='dataset_short_name', how='left')\n",
    "roskams = roskams.merge(dataset_metadata[['dataset_short_name','Biomaterial', 'Plasma tubes', 'DNAse','RNA extraction kit','RNA extraction kit (short name)','Library prep kit','Library prep kit (short name)']], on='dataset_short_name', how='left')\n",
    "ngo = ngo.merge(dataset_metadata[['dataset_short_name','Biomaterial', 'Plasma tubes', 'DNAse','RNA extraction kit','RNA extraction kit (short name)','Library prep kit','Library prep kit (short name)']], on='dataset_short_name', how='left')\n",
    "ibarra = ibarra.merge(dataset_metadata[['dataset_short_name', 'DNAse','RNA extraction kit','RNA extraction kit (short name)','Library prep kit','Library prep kit (short name)']], on='dataset_short_name', how='left')\n",
    "toden = toden.merge(dataset_metadata[['dataset_short_name','Biomaterial', 'Plasma tubes', 'DNAse','RNA extraction kit','RNA extraction kit (short name)','Library prep kit','Library prep kit (short name)']], on='dataset_short_name', how='left')\n",
    "chalasani = chalasani.merge(dataset_metadata[['dataset_short_name','Biomaterial', 'Plasma tubes', 'DNAse','RNA extraction kit','RNA extraction kit (short name)','Library prep kit','Library prep kit (short name)']], on='dataset_short_name', how='left')\n",
    "block = block.merge(dataset_metadata[['dataset_short_name','Biomaterial', 'Plasma tubes', 'DNAse','RNA extraction kit','RNA extraction kit (short name)','Library prep kit','Library prep kit (short name)']], on='dataset_short_name', how='left')\n",
    "rozowsky = rozowsky.merge(dataset_metadata[['dataset_short_name','Biomaterial', 'Plasma tubes', 'DNAse','RNA extraction kit','RNA extraction kit (short name)','Library prep kit','Library prep kit (short name)']], on='dataset_short_name', how='left')\n",
    "tao = tao.merge(dataset_metadata[['dataset_short_name','Biomaterial', 'Plasma tubes', 'DNAse','RNA extraction kit','RNA extraction kit (short name)','Library prep kit','Library prep kit (short name)']], on='dataset_short_name', how='left')\n",
    "wei = wei.merge(dataset_metadata[['dataset_short_name','Biomaterial', 'Plasma tubes', 'DNAse','RNA extraction kit','RNA extraction kit (short name)','Library prep kit','Library prep kit (short name)']], on='dataset_short_name', how='left')\n",
    "moufarrej = moufarrej.merge(dataset_metadata[['dataset_short_name','Biomaterial', 'Plasma tubes', 'DNAse','RNA extraction kit','RNA extraction kit (short name)','Library prep kit','Library prep kit (short name)']], on='dataset_short_name', how='left')\n",
    "wang = wang.merge(dataset_metadata[['dataset_short_name','Biomaterial', 'Plasma tubes', 'DNAse','RNA extraction kit','RNA extraction kit (short name)','Library prep kit','Library prep kit (short name)']], on='dataset_short_name', how='left')\n",
    "giraldez = giraldez.merge(dataset_metadata[['dataset_short_name','Biomaterial', 'Plasma tubes', 'DNAse','RNA extraction kit','RNA extraction kit (short name)','Library prep kit','Library prep kit (short name)']], on='dataset_short_name', how='left')\n",
    "sun = sun.merge(dataset_metadata[['dataset_short_name', 'Plasma tubes', 'DNAse','RNA extraction kit','RNA extraction kit (short name)','Library prep kit','Library prep kit (short name)']], on='dataset_short_name', how='left')\n",
    "decruyenaere = decruyenaere.merge(dataset_metadata[['dataset_short_name', 'Plasma tubes', 'DNAse','RNA extraction kit','RNA extraction kit (short name)','Library prep kit','Library prep kit (short name)']], on='dataset_short_name', how='left')\n",
    "reggiardo = reggiardo.merge(dataset_metadata[['dataset_short_name','Biomaterial', 'Plasma tubes', 'DNAse','RNA extraction kit','RNA extraction kit (short name)','Library prep kit','Library prep kit (short name)']], on='dataset_short_name', how='left')\n"
   ]
  },
  {
   "cell_type": "code",
   "execution_count": null,
   "id": "48bcd0f3-63a0-4c23-9b3a-3a9135f79fa9",
   "metadata": {},
   "outputs": [],
   "source": [
    "dfs = [chen, zhu, roskams, ngo, ibarra, toden, chalasani, block, rozowsky, tao, wei, moufarrej, wang, giraldez, sun, decruyenaere, reggiardo]"
   ]
  },
  {
   "cell_type": "code",
   "execution_count": null,
   "id": "10fc9dda-19da-437b-b82e-114f32fd5fe7",
   "metadata": {},
   "outputs": [],
   "source": [
    "merged_metadata = pd.concat(dfs, axis=0, join=\"outer\", ignore_index=True)"
   ]
  },
  {
   "cell_type": "code",
   "execution_count": null,
   "id": "39343ff4-f72d-4593-b8b6-966699fc8fa8",
   "metadata": {},
   "outputs": [],
   "source": [
    "merged_metadata.to_csv(\"../tables/cfRNA-meta_per_sample_metadata.tsv\", sep=\"\\t\", index=False)\n"
   ]
  }
 ],
 "metadata": {
  "kernelspec": {
   "display_name": "Python 3 (ipykernel)",
   "language": "python",
   "name": "python3"
  },
  "language_info": {
   "codemirror_mode": {
    "name": "ipython",
    "version": 3
   },
   "file_extension": ".py",
   "mimetype": "text/x-python",
   "name": "python",
   "nbconvert_exporter": "python",
   "pygments_lexer": "ipython3",
   "version": "3.12.8"
  }
 },
 "nbformat": 4,
 "nbformat_minor": 5
}
